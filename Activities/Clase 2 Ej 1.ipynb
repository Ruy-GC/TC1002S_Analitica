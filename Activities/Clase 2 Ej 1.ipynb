{
 "cells": [
  {
   "cell_type": "code",
   "execution_count": 25,
   "metadata": {},
   "outputs": [],
   "source": [
    "import numpy as np\n",
    "import math\n"
   ]
  },
  {
   "cell_type": "code",
   "execution_count": 26,
   "metadata": {},
   "outputs": [],
   "source": [
    "A = np.array([1,2,3])\n",
    "B = np.array([2,4,6])\n",
    "C = np.array([-1,2])\n",
    "D = np.array([2,-1])\n",
    "E = np.array([1,0,2,3,5])\n",
    "F = np.array([1,4,8,9,11])\n",
    "G = np.matrix([[1,4],[3,2]])\n",
    "H = np.matrix([[5,5],[5,5]])"
   ]
  },
  {
   "cell_type": "code",
   "execution_count": 38,
   "metadata": {},
   "outputs": [
    {
     "name": "stdout",
     "output_type": "stream",
     "text": [
      "[3 6 9]\n",
      "[0 0 0]\n",
      "[-3  3]\n",
      "-4\n",
      "99\n",
      "5.977725364273731\n",
      "[107.29319529 214.58639059 321.87958588]\n",
      "2.498091544796509\n",
      "[[5 0]]\n",
      "[[7]\n",
      " [1]]\n"
     ]
    }
   ],
   "source": [
    "print(A+B)\n",
    "print(np.cross(A,B))\n",
    "#print(A-C) no se puede calcular ya que las dimensiones de c y a no son inguales\n",
    "print(C-D)\n",
    "print(D.dot(C))\n",
    "print(E.dot(F))\n",
    "print(np.linalg.norm(A) + np.linalg.norm(C))\n",
    "print((np.linalg.norm(E)*np.linalg.norm(F) + np.linalg.norm(C))*A)\n",
    "\n",
    "m = D.dot(C)\n",
    "ang = m / (np.linalg.norm(D)*np.linalg.norm(C))\n",
    "print(math.acos(ang))\n",
    "print(C*G)\n",
    "#print(G*C) no se puede calcular \n",
    "print(G*np.transpose(np.matrix(C)))\n"
   ]
  }
 ],
 "metadata": {
  "kernelspec": {
   "display_name": "Python 3",
   "language": "python",
   "name": "python3"
  },
  "language_info": {
   "codemirror_mode": {
    "name": "ipython",
    "version": 3
   },
   "file_extension": ".py",
   "mimetype": "text/x-python",
   "name": "python",
   "nbconvert_exporter": "python",
   "pygments_lexer": "ipython3",
   "version": "3.8.5"
  }
 },
 "nbformat": 4,
 "nbformat_minor": 4
}
