{
 "cells": [
  {
   "cell_type": "code",
   "execution_count": 7,
   "metadata": {},
   "outputs": [],
   "source": [
    "#Importar librerias\n",
    "import numpy as np\n",
    "import pandas as pd\n",
    "from sklearn.linear_model import LinearRegression as lr\n",
    "from matplotlib import pyplot as plt"
   ]
  },
  {
   "cell_type": "code",
   "execution_count": 8,
   "metadata": {},
   "outputs": [],
   "source": [
    "#Dar lectura y separar en X(Variables explicativas) y(variable respuesta)\n",
    "df = pd.read_csv(\"factorial-train.csv\")\n",
    "data = df.values\n",
    "X = data[:,[0]]\n",
    "y = data[:,[1]]"
   ]
  },
  {
   "cell_type": "code",
   "execution_count": 9,
   "metadata": {},
   "outputs": [
    {
     "data": {
      "image/png": "[encoded data removed]",
      "text/plain": [
       "<Figure size 432x288 with 1 Axes>"
      ]
     },
     "metadata": {
      "needs_background": "light"
     },
     "output_type": "display_data"
    }
   ],
   "source": [
    "#Entrenar una regresión y dibujar el modelo\n",
    "reg = lr().fit(X, y)\n",
    "#print(reg.score(X,y))\n",
    "plt.scatter(X,y)\n",
    "plt.plot(X,reg.predict(X))\n",
    "plt.show()"
   ]
  },
  {
   "cell_type": "code",
   "execution_count": 10,
   "metadata": {},
   "outputs": [
    {
     "data": {
      "text/plain": [
       "array([[  0.68593427],\n",
       "       [  4.17240006],\n",
       "       [  7.65886585],\n",
       "       [ 11.14533164],\n",
       "       [ 12.39049799],\n",
       "       [ 18.86536303],\n",
       "       [ 27.33249423],\n",
       "       [ 54.22808747],\n",
       "       [ 81.87078052],\n",
       "       [137.15616662],\n",
       "       [192.44155272],\n",
       "       [247.72693882]])"
      ]
     },
     "execution_count": 10,
     "metadata": {},
     "output_type": "execute_result"
    }
   ],
   "source": [
    "#Emplear la prediccion y verificar los valores\n",
    "df2 = pd.read_csv(\"factorial-test.csv\")\n",
    "data2 = df2.values\n",
    "X2 = data2[:,[0]]\n",
    "y2p = reg.predict(X2)\n",
    "y2p"
   ]
  },
  {
   "cell_type": "code",
   "execution_count": 11,
   "metadata": {},
   "outputs": [
    {
     "data": {
      "text/plain": [
       "array([[  1.],\n",
       "       [  4.],\n",
       "       [  8.],\n",
       "       [ 11.],\n",
       "       [ 12.],\n",
       "       [ 19.],\n",
       "       [ 27.],\n",
       "       [ 54.],\n",
       "       [ 82.],\n",
       "       [137.],\n",
       "       [192.],\n",
       "       [248.]])"
      ]
     },
     "execution_count": 11,
     "metadata": {},
     "output_type": "execute_result"
    }
   ],
   "source": [
    "#Como sabemos que los valores son enteros redondeamos el resultado\n",
    "y2p = np.round(y2p,0)\n",
    "y2p #Mostramos los valores predecidos"
   ]
  },
  {
   "cell_type": "code",
   "execution_count": 12,
   "metadata": {},
   "outputs": [
    {
     "data": {
      "text/plain": [
       "[<matplotlib.lines.Line2D at 0x249771752b0>]"
      ]
     },
     "execution_count": 12,
     "metadata": {},
     "output_type": "execute_result"
    },
    {
     "data": {
      "image/png": "[encoded data removed]",
      "text/plain": [
       "<Figure size 432x288 with 1 Axes>"
      ]
     },
     "metadata": {
      "needs_background": "light"
     },
     "output_type": "display_data"
    }
   ],
   "source": [
    "plt.scatter(X,y)\n",
    "plt.scatter(X2,y2p)\n",
    "plt.plot(X,reg.predict(X))"
   ]
  }
 ],
 "metadata": {
  "kernelspec": {
   "display_name": "Python 3",
   "language": "python",
   "name": "python3"
  },
  "language_info": {
   "codemirror_mode": {
    "name": "ipython",
    "version": 3
   },
   "file_extension": ".py",
   "mimetype": "text/x-python",
   "name": "python",
   "nbconvert_exporter": "python",
   "pygments_lexer": "ipython3",
   "version": "3.8.8"
  }
 },
 "nbformat": 4,
 "nbformat_minor": 2
}
